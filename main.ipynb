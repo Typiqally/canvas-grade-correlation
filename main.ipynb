{
 "cells": [
  {
   "metadata": {
    "ExecuteTime": {
     "end_time": "2024-09-11T10:15:12.556507Z",
     "start_time": "2024-09-11T10:15:12.546258Z"
    }
   },
   "cell_type": "code",
   "source": [
    "import json\n",
    "\n",
    "filtered_list = json.load(open('dataset.json'))"
   ],
   "id": "e868580ee7de198a",
   "outputs": [],
   "execution_count": 12
  },
  {
   "metadata": {},
   "cell_type": "markdown",
   "source": "",
   "id": "559a23cf3b0aebe4"
  },
  {
   "metadata": {
    "ExecuteTime": {
     "end_time": "2024-09-11T10:15:12.890777Z",
     "start_time": "2024-09-11T10:15:12.881541Z"
    }
   },
   "cell_type": "code",
   "source": [
    "import pandas as pd\n",
    "\n",
    "# Initialize an empty list to store table rows\n",
    "table_data = []\n",
    "\n",
    "# Iterate over each user in filtered_list\n",
    "for user, assignments in filtered_list.items():\n",
    "    for assignment, data in assignments.items():\n",
    "        scores = data['scores']\n",
    "        delta_changes_percentage = data['delta_changes_percentage']\n",
    "        table_data.append({\n",
    "            'user_id': user,\n",
    "            'assignment_id': assignment,\n",
    "            'scores': scores,\n",
    "            'delta_changes_percentage': delta_changes_percentage\n",
    "        })\n",
    "\n",
    "# Create a DataFrame from the table data\n",
    "df_table = pd.DataFrame(table_data)\n",
    "\n",
    "# Display the DataFrame\n",
    "df_table"
   ],
   "id": "d5ac65c469c4d185",
   "outputs": [
    {
     "data": {
      "text/plain": [
       "                                  user_id  \\\n",
       "0    334a03ea-a105-49ca-b449-bd8aef512982   \n",
       "1    334a03ea-a105-49ca-b449-bd8aef512982   \n",
       "2    334a03ea-a105-49ca-b449-bd8aef512982   \n",
       "3    334a03ea-a105-49ca-b449-bd8aef512982   \n",
       "4    a68ef046-5462-4c4a-be50-bac739060c88   \n",
       "..                                    ...   \n",
       "205  4c73bab4-42be-43ec-935b-0accce32fde6   \n",
       "206  4c73bab4-42be-43ec-935b-0accce32fde6   \n",
       "207  8b465a7e-3a3c-4ce1-ace5-df54ef67abcd   \n",
       "208  4ffe3ccc-7d7a-49bb-bc3e-b6424e09f9b2   \n",
       "209  3a794beb-931c-4701-baa6-7645e268283a   \n",
       "\n",
       "                            assignment_id                         scores  \\\n",
       "0    3afd326b-ae20-4add-b9b2-4c7f70801a55                   [23.0, 32.0]   \n",
       "1    78a47ecb-fe06-4c39-b26a-6f2132efa64f                     [3.0, 6.0]   \n",
       "2    e16ad099-0a21-4074-a6df-695d2eaefee8                   [16.0, 32.0]   \n",
       "3    ab8080eb-c1fe-4524-b2d0-77daa7ca6a9f                   [11.0, 20.0]   \n",
       "4    c1adb2cf-a8ec-4e06-8080-1fda0b3127b8                    [3.0, 42.0]   \n",
       "..                                    ...                            ...   \n",
       "205  8e194b2c-440d-4224-9658-f899a4db4e15       [12.0, 12.0, 14.0, 14.0]   \n",
       "206  ed9c0f26-0745-4dcb-b88d-19eee9cfa17d        [9.0, 10.0, 11.0, 12.0]   \n",
       "207  8e194b2c-440d-4224-9658-f899a4db4e15  [9.0, 11.0, 12.0, 13.0, 15.0]   \n",
       "208  8e194b2c-440d-4224-9658-f899a4db4e15                [3.0, 6.0, 6.0]   \n",
       "209  ed9c0f26-0745-4dcb-b88d-19eee9cfa17d              [3.0, 12.0, 12.0]   \n",
       "\n",
       "                              delta_changes_percentage  \n",
       "0                                 [39.130434782608695]  \n",
       "1                                              [100.0]  \n",
       "2                                              [100.0]  \n",
       "3                                  [81.81818181818183]  \n",
       "4                                             [1300.0]  \n",
       "..                                                 ...  \n",
       "205                     [0.0, 16.666666666666664, 0.0]  \n",
       "206       [11.11111111111111, 10.0, 9.090909090909092]  \n",
       "207  [22.22222222222222, 9.090909090909092, 8.33333...  \n",
       "208                                       [100.0, 0.0]  \n",
       "209                                       [300.0, 0.0]  \n",
       "\n",
       "[210 rows x 4 columns]"
      ],
      "text/html": [
       "<div>\n",
       "<style scoped>\n",
       "    .dataframe tbody tr th:only-of-type {\n",
       "        vertical-align: middle;\n",
       "    }\n",
       "\n",
       "    .dataframe tbody tr th {\n",
       "        vertical-align: top;\n",
       "    }\n",
       "\n",
       "    .dataframe thead th {\n",
       "        text-align: right;\n",
       "    }\n",
       "</style>\n",
       "<table border=\"1\" class=\"dataframe\">\n",
       "  <thead>\n",
       "    <tr style=\"text-align: right;\">\n",
       "      <th></th>\n",
       "      <th>user_id</th>\n",
       "      <th>assignment_id</th>\n",
       "      <th>scores</th>\n",
       "      <th>delta_changes_percentage</th>\n",
       "    </tr>\n",
       "  </thead>\n",
       "  <tbody>\n",
       "    <tr>\n",
       "      <th>0</th>\n",
       "      <td>334a03ea-a105-49ca-b449-bd8aef512982</td>\n",
       "      <td>3afd326b-ae20-4add-b9b2-4c7f70801a55</td>\n",
       "      <td>[23.0, 32.0]</td>\n",
       "      <td>[39.130434782608695]</td>\n",
       "    </tr>\n",
       "    <tr>\n",
       "      <th>1</th>\n",
       "      <td>334a03ea-a105-49ca-b449-bd8aef512982</td>\n",
       "      <td>78a47ecb-fe06-4c39-b26a-6f2132efa64f</td>\n",
       "      <td>[3.0, 6.0]</td>\n",
       "      <td>[100.0]</td>\n",
       "    </tr>\n",
       "    <tr>\n",
       "      <th>2</th>\n",
       "      <td>334a03ea-a105-49ca-b449-bd8aef512982</td>\n",
       "      <td>e16ad099-0a21-4074-a6df-695d2eaefee8</td>\n",
       "      <td>[16.0, 32.0]</td>\n",
       "      <td>[100.0]</td>\n",
       "    </tr>\n",
       "    <tr>\n",
       "      <th>3</th>\n",
       "      <td>334a03ea-a105-49ca-b449-bd8aef512982</td>\n",
       "      <td>ab8080eb-c1fe-4524-b2d0-77daa7ca6a9f</td>\n",
       "      <td>[11.0, 20.0]</td>\n",
       "      <td>[81.81818181818183]</td>\n",
       "    </tr>\n",
       "    <tr>\n",
       "      <th>4</th>\n",
       "      <td>a68ef046-5462-4c4a-be50-bac739060c88</td>\n",
       "      <td>c1adb2cf-a8ec-4e06-8080-1fda0b3127b8</td>\n",
       "      <td>[3.0, 42.0]</td>\n",
       "      <td>[1300.0]</td>\n",
       "    </tr>\n",
       "    <tr>\n",
       "      <th>...</th>\n",
       "      <td>...</td>\n",
       "      <td>...</td>\n",
       "      <td>...</td>\n",
       "      <td>...</td>\n",
       "    </tr>\n",
       "    <tr>\n",
       "      <th>205</th>\n",
       "      <td>4c73bab4-42be-43ec-935b-0accce32fde6</td>\n",
       "      <td>8e194b2c-440d-4224-9658-f899a4db4e15</td>\n",
       "      <td>[12.0, 12.0, 14.0, 14.0]</td>\n",
       "      <td>[0.0, 16.666666666666664, 0.0]</td>\n",
       "    </tr>\n",
       "    <tr>\n",
       "      <th>206</th>\n",
       "      <td>4c73bab4-42be-43ec-935b-0accce32fde6</td>\n",
       "      <td>ed9c0f26-0745-4dcb-b88d-19eee9cfa17d</td>\n",
       "      <td>[9.0, 10.0, 11.0, 12.0]</td>\n",
       "      <td>[11.11111111111111, 10.0, 9.090909090909092]</td>\n",
       "    </tr>\n",
       "    <tr>\n",
       "      <th>207</th>\n",
       "      <td>8b465a7e-3a3c-4ce1-ace5-df54ef67abcd</td>\n",
       "      <td>8e194b2c-440d-4224-9658-f899a4db4e15</td>\n",
       "      <td>[9.0, 11.0, 12.0, 13.0, 15.0]</td>\n",
       "      <td>[22.22222222222222, 9.090909090909092, 8.33333...</td>\n",
       "    </tr>\n",
       "    <tr>\n",
       "      <th>208</th>\n",
       "      <td>4ffe3ccc-7d7a-49bb-bc3e-b6424e09f9b2</td>\n",
       "      <td>8e194b2c-440d-4224-9658-f899a4db4e15</td>\n",
       "      <td>[3.0, 6.0, 6.0]</td>\n",
       "      <td>[100.0, 0.0]</td>\n",
       "    </tr>\n",
       "    <tr>\n",
       "      <th>209</th>\n",
       "      <td>3a794beb-931c-4701-baa6-7645e268283a</td>\n",
       "      <td>ed9c0f26-0745-4dcb-b88d-19eee9cfa17d</td>\n",
       "      <td>[3.0, 12.0, 12.0]</td>\n",
       "      <td>[300.0, 0.0]</td>\n",
       "    </tr>\n",
       "  </tbody>\n",
       "</table>\n",
       "<p>210 rows × 4 columns</p>\n",
       "</div>"
      ]
     },
     "execution_count": 13,
     "metadata": {},
     "output_type": "execute_result"
    }
   ],
   "execution_count": 13
  },
  {
   "metadata": {
    "ExecuteTime": {
     "end_time": "2024-09-11T10:15:13.072718Z",
     "start_time": "2024-09-11T10:15:13.064410Z"
    }
   },
   "cell_type": "code",
   "source": [
    "import pandas as pd\n",
    "\n",
    "# Initialize an empty list to store table rows\n",
    "table_data = []\n",
    "\n",
    "# Iterate over each user in filtered_list\n",
    "for user, assignments in filtered_list.items():\n",
    "    num_assignments = len(assignments)\n",
    "    total_attempts = sum(len(data['scores']) for data in assignments.values())\n",
    "    max_attempts = max(len(data['scores']) for data in assignments.values())\n",
    "    avg_attempts_per_assignment = total_attempts / num_assignments if num_assignments > 0 else 0\n",
    "    first_attempt_scores = [data['scores'][0] for data in assignments.values() if data['scores']]\n",
    "    final_attempt_scores = [data['scores'][-1] for data in assignments.values() if data['scores']]\n",
    "    avg_first_attempt_score = sum(first_attempt_scores) / len(first_attempt_scores) if first_attempt_scores else 0\n",
    "    avg_final_attempt_score = sum(final_attempt_scores) / len(final_attempt_scores) if final_attempt_scores else 0\n",
    "    delta_percentage = ((\n",
    "                                    avg_final_attempt_score - avg_first_attempt_score) / avg_first_attempt_score * 100) if avg_first_attempt_score != 0 else 0\n",
    "    table_data.append({\n",
    "        'user_id': user,\n",
    "        'total_attempts': total_attempts,\n",
    "        'max_attempts': max_attempts,\n",
    "        'num_assignments': num_assignments,\n",
    "        'avg_attempts_per_assignment': avg_attempts_per_assignment,\n",
    "        'avg_first_attempt_score': avg_first_attempt_score,\n",
    "        'avg_final_attempt_score': avg_final_attempt_score,\n",
    "        'delta_percentage': delta_percentage\n",
    "    })\n",
    "\n",
    "# Create a DataFrame from the table data\n",
    "df_table = pd.DataFrame(table_data)\n",
    "\n",
    "# Display the DataFrame\n",
    "df_table"
   ],
   "id": "3f466c658cafd452",
   "outputs": [
    {
     "data": {
      "text/plain": [
       "                                 user_id  total_attempts  max_attempts  \\\n",
       "0   334a03ea-a105-49ca-b449-bd8aef512982               8             2   \n",
       "1   a68ef046-5462-4c4a-be50-bac739060c88               9             2   \n",
       "2   11a983b6-cb15-41aa-a878-917e024d9552               6             2   \n",
       "3   3a642fb9-c185-4d71-9fb6-b491939cdd35               6             2   \n",
       "4   b5eed1d0-bc76-479e-adec-ee5464f126f5               2             1   \n",
       "..                                   ...             ...           ...   \n",
       "86  33f42b53-14ed-426f-8dcd-e16664de2b98               3             2   \n",
       "87  4c73bab4-42be-43ec-935b-0accce32fde6               8             4   \n",
       "88  8b465a7e-3a3c-4ce1-ace5-df54ef67abcd               5             5   \n",
       "89  4ffe3ccc-7d7a-49bb-bc3e-b6424e09f9b2               3             3   \n",
       "90  3a794beb-931c-4701-baa6-7645e268283a               3             3   \n",
       "\n",
       "    num_assignments  avg_attempts_per_assignment  avg_first_attempt_score  \\\n",
       "0                 4                          2.0                    13.25   \n",
       "1                 5                          1.8                     8.60   \n",
       "2                 3                          2.0                    16.00   \n",
       "3                 3                          2.0                    13.00   \n",
       "4                 2                          1.0                    21.00   \n",
       "..              ...                          ...                      ...   \n",
       "86                2                          1.5                     8.00   \n",
       "87                2                          4.0                    10.50   \n",
       "88                1                          5.0                     9.00   \n",
       "89                1                          3.0                     3.00   \n",
       "90                1                          3.0                     3.00   \n",
       "\n",
       "    avg_final_attempt_score  delta_percentage  \n",
       "0                 22.500000         69.811321  \n",
       "1                 20.800000        141.860465  \n",
       "2                 38.000000        137.500000  \n",
       "3                 19.333333         48.717949  \n",
       "4                 21.000000          0.000000  \n",
       "..                      ...               ...  \n",
       "86                 8.000000          0.000000  \n",
       "87                13.000000         23.809524  \n",
       "88                15.000000         66.666667  \n",
       "89                 6.000000        100.000000  \n",
       "90                12.000000        300.000000  \n",
       "\n",
       "[91 rows x 8 columns]"
      ],
      "text/html": [
       "<div>\n",
       "<style scoped>\n",
       "    .dataframe tbody tr th:only-of-type {\n",
       "        vertical-align: middle;\n",
       "    }\n",
       "\n",
       "    .dataframe tbody tr th {\n",
       "        vertical-align: top;\n",
       "    }\n",
       "\n",
       "    .dataframe thead th {\n",
       "        text-align: right;\n",
       "    }\n",
       "</style>\n",
       "<table border=\"1\" class=\"dataframe\">\n",
       "  <thead>\n",
       "    <tr style=\"text-align: right;\">\n",
       "      <th></th>\n",
       "      <th>user_id</th>\n",
       "      <th>total_attempts</th>\n",
       "      <th>max_attempts</th>\n",
       "      <th>num_assignments</th>\n",
       "      <th>avg_attempts_per_assignment</th>\n",
       "      <th>avg_first_attempt_score</th>\n",
       "      <th>avg_final_attempt_score</th>\n",
       "      <th>delta_percentage</th>\n",
       "    </tr>\n",
       "  </thead>\n",
       "  <tbody>\n",
       "    <tr>\n",
       "      <th>0</th>\n",
       "      <td>334a03ea-a105-49ca-b449-bd8aef512982</td>\n",
       "      <td>8</td>\n",
       "      <td>2</td>\n",
       "      <td>4</td>\n",
       "      <td>2.0</td>\n",
       "      <td>13.25</td>\n",
       "      <td>22.500000</td>\n",
       "      <td>69.811321</td>\n",
       "    </tr>\n",
       "    <tr>\n",
       "      <th>1</th>\n",
       "      <td>a68ef046-5462-4c4a-be50-bac739060c88</td>\n",
       "      <td>9</td>\n",
       "      <td>2</td>\n",
       "      <td>5</td>\n",
       "      <td>1.8</td>\n",
       "      <td>8.60</td>\n",
       "      <td>20.800000</td>\n",
       "      <td>141.860465</td>\n",
       "    </tr>\n",
       "    <tr>\n",
       "      <th>2</th>\n",
       "      <td>11a983b6-cb15-41aa-a878-917e024d9552</td>\n",
       "      <td>6</td>\n",
       "      <td>2</td>\n",
       "      <td>3</td>\n",
       "      <td>2.0</td>\n",
       "      <td>16.00</td>\n",
       "      <td>38.000000</td>\n",
       "      <td>137.500000</td>\n",
       "    </tr>\n",
       "    <tr>\n",
       "      <th>3</th>\n",
       "      <td>3a642fb9-c185-4d71-9fb6-b491939cdd35</td>\n",
       "      <td>6</td>\n",
       "      <td>2</td>\n",
       "      <td>3</td>\n",
       "      <td>2.0</td>\n",
       "      <td>13.00</td>\n",
       "      <td>19.333333</td>\n",
       "      <td>48.717949</td>\n",
       "    </tr>\n",
       "    <tr>\n",
       "      <th>4</th>\n",
       "      <td>b5eed1d0-bc76-479e-adec-ee5464f126f5</td>\n",
       "      <td>2</td>\n",
       "      <td>1</td>\n",
       "      <td>2</td>\n",
       "      <td>1.0</td>\n",
       "      <td>21.00</td>\n",
       "      <td>21.000000</td>\n",
       "      <td>0.000000</td>\n",
       "    </tr>\n",
       "    <tr>\n",
       "      <th>...</th>\n",
       "      <td>...</td>\n",
       "      <td>...</td>\n",
       "      <td>...</td>\n",
       "      <td>...</td>\n",
       "      <td>...</td>\n",
       "      <td>...</td>\n",
       "      <td>...</td>\n",
       "      <td>...</td>\n",
       "    </tr>\n",
       "    <tr>\n",
       "      <th>86</th>\n",
       "      <td>33f42b53-14ed-426f-8dcd-e16664de2b98</td>\n",
       "      <td>3</td>\n",
       "      <td>2</td>\n",
       "      <td>2</td>\n",
       "      <td>1.5</td>\n",
       "      <td>8.00</td>\n",
       "      <td>8.000000</td>\n",
       "      <td>0.000000</td>\n",
       "    </tr>\n",
       "    <tr>\n",
       "      <th>87</th>\n",
       "      <td>4c73bab4-42be-43ec-935b-0accce32fde6</td>\n",
       "      <td>8</td>\n",
       "      <td>4</td>\n",
       "      <td>2</td>\n",
       "      <td>4.0</td>\n",
       "      <td>10.50</td>\n",
       "      <td>13.000000</td>\n",
       "      <td>23.809524</td>\n",
       "    </tr>\n",
       "    <tr>\n",
       "      <th>88</th>\n",
       "      <td>8b465a7e-3a3c-4ce1-ace5-df54ef67abcd</td>\n",
       "      <td>5</td>\n",
       "      <td>5</td>\n",
       "      <td>1</td>\n",
       "      <td>5.0</td>\n",
       "      <td>9.00</td>\n",
       "      <td>15.000000</td>\n",
       "      <td>66.666667</td>\n",
       "    </tr>\n",
       "    <tr>\n",
       "      <th>89</th>\n",
       "      <td>4ffe3ccc-7d7a-49bb-bc3e-b6424e09f9b2</td>\n",
       "      <td>3</td>\n",
       "      <td>3</td>\n",
       "      <td>1</td>\n",
       "      <td>3.0</td>\n",
       "      <td>3.00</td>\n",
       "      <td>6.000000</td>\n",
       "      <td>100.000000</td>\n",
       "    </tr>\n",
       "    <tr>\n",
       "      <th>90</th>\n",
       "      <td>3a794beb-931c-4701-baa6-7645e268283a</td>\n",
       "      <td>3</td>\n",
       "      <td>3</td>\n",
       "      <td>1</td>\n",
       "      <td>3.0</td>\n",
       "      <td>3.00</td>\n",
       "      <td>12.000000</td>\n",
       "      <td>300.000000</td>\n",
       "    </tr>\n",
       "  </tbody>\n",
       "</table>\n",
       "<p>91 rows × 8 columns</p>\n",
       "</div>"
      ]
     },
     "execution_count": 14,
     "metadata": {},
     "output_type": "execute_result"
    }
   ],
   "execution_count": 14
  },
  {
   "metadata": {
    "ExecuteTime": {
     "end_time": "2024-09-11T10:15:13.252080Z",
     "start_time": "2024-09-11T10:15:13.249162Z"
    }
   },
   "cell_type": "code",
   "source": "df_table[\"max_attempts\"].max()",
   "id": "4cffd1a0db70f0bc",
   "outputs": [
    {
     "data": {
      "text/plain": [
       "np.int64(7)"
      ]
     },
     "execution_count": 15,
     "metadata": {},
     "output_type": "execute_result"
    }
   ],
   "execution_count": 15
  },
  {
   "metadata": {},
   "cell_type": "markdown",
   "source": "# Average first attempt score",
   "id": "136093b7760eeae2"
  },
  {
   "metadata": {
    "ExecuteTime": {
     "end_time": "2024-09-11T10:15:13.541385Z",
     "start_time": "2024-09-11T10:15:13.538530Z"
    }
   },
   "cell_type": "code",
   "source": [
    "# Initialize variables to store the sum of first attempt scores and the count\n",
    "sum_first_attempt_scores = 0\n",
    "count_first_attempt_scores = 0\n",
    "\n",
    "# Iterate over each user in filtered_list\n",
    "for user, assignments in filtered_list.items():\n",
    "    for assignment, data in assignments.items():\n",
    "        scores = data['scores']\n",
    "        if scores:\n",
    "            # Add the first attempt score to the sum\n",
    "            sum_first_attempt_scores += scores[0]\n",
    "            # Increment the count\n",
    "            count_first_attempt_scores += 1\n",
    "\n",
    "# Calculate the average first attempt score\n",
    "average_first_attempt_score = sum_first_attempt_scores / count_first_attempt_scores if count_first_attempt_scores > 0 else 0\n",
    "\n",
    "# Print the average first attempt score\n",
    "print(f'Average first attempt score: {average_first_attempt_score}')"
   ],
   "id": "9e6515d7ca3e0778",
   "outputs": [
    {
     "name": "stdout",
     "output_type": "stream",
     "text": [
      "Average first attempt score: 9.84\n"
     ]
    }
   ],
   "execution_count": 16
  },
  {
   "metadata": {
    "ExecuteTime": {
     "end_time": "2024-09-11T10:15:13.726665Z",
     "start_time": "2024-09-11T10:15:13.724145Z"
    }
   },
   "cell_type": "code",
   "source": [
    "# Initialize variables to store the sum of final attempt scores and the count\n",
    "sum_final_attempt_scores = 0\n",
    "count_final_attempt_scores = 0\n",
    "\n",
    "# Iterate over each user in filtered_list\n",
    "for user, assignments in filtered_list.items():\n",
    "    for assignment, data in assignments.items():\n",
    "        scores = data['scores']\n",
    "        if scores:\n",
    "            # Add the final attempt score to the sum\n",
    "            sum_final_attempt_scores += scores[-1]\n",
    "            # Increment the count\n",
    "            count_final_attempt_scores += 1\n",
    "\n",
    "# Calculate the average final attempt score\n",
    "average_final_attempt_score = sum_final_attempt_scores / count_final_attempt_scores if count_final_attempt_scores > 0 else 0\n",
    "\n",
    "# Print the average final attempt score\n",
    "print(f'Average final attempt score: {average_final_attempt_score}')"
   ],
   "id": "2ca4ca2cafcbf021",
   "outputs": [
    {
     "name": "stdout",
     "output_type": "stream",
     "text": [
      "Average final attempt score: 15.09\n"
     ]
    }
   ],
   "execution_count": 17
  },
  {
   "metadata": {
    "ExecuteTime": {
     "end_time": "2024-09-11T10:15:13.896062Z",
     "start_time": "2024-09-11T10:15:13.892959Z"
    }
   },
   "cell_type": "code",
   "source": [
    "# Initialize variables to store the sum of delta changes (in percentage) between the 1st and 2nd attempts and the count\n",
    "sum_delta_changes_percentage = 0\n",
    "count_delta_changes = 0\n",
    "\n",
    "# Iterate over each user in filtered_list\n",
    "for user, assignments in filtered_list.items():\n",
    "    for assignment, data in assignments.items():\n",
    "        scores = data['scores']\n",
    "        if len(scores) >= 2:\n",
    "            # Calculate the delta change percentage between the 1st and 2nd attempts\n",
    "            delta_change_percentage = ((scores[1] - scores[0]) / scores[0]) * 100 if scores[0] != 0 else 0\n",
    "            # Add the delta change percentage to the sum\n",
    "            sum_delta_changes_percentage += delta_change_percentage\n",
    "            # Increment the count\n",
    "            count_delta_changes += 1\n",
    "\n",
    "# Calculate the average delta change percentage\n",
    "average_delta_change_percentage = sum_delta_changes_percentage / count_delta_changes if count_delta_changes > 0 else 0\n",
    "\n",
    "# Print the average delta change percentage\n",
    "print(f'Average delta change percentage between the 1st and 2nd attempts: {average_delta_change_percentage:.2f}%')"
   ],
   "id": "a127682b6a4f7dea",
   "outputs": [
    {
     "name": "stdout",
     "output_type": "stream",
     "text": [
      "Average delta change percentage between the 1st and 2nd attempts: 63.90%\n"
     ]
    }
   ],
   "execution_count": 18
  },
  {
   "metadata": {
    "ExecuteTime": {
     "end_time": "2024-09-11T10:15:14.355631Z",
     "start_time": "2024-09-11T10:15:14.352831Z"
    }
   },
   "cell_type": "code",
   "source": [
    "# Initialize variables to store the sum of delta changes (in percentage) between the 2nd and 3rd attempts and the count\n",
    "sum_delta_changes_percentage = 0\n",
    "count_delta_changes = 0\n",
    "\n",
    "# Iterate over each user in filtered_list\n",
    "for user, assignments in filtered_list.items():\n",
    "    for assignment, data in assignments.items():\n",
    "        scores = data['scores']\n",
    "        if len(scores) >= 3:\n",
    "            # Calculate the delta change percentage between the 2nd and 3rd attempts\n",
    "            delta_change_percentage = ((scores[2] - scores[1]) / scores[1]) * 100 if scores[1] != 0 else 0\n",
    "            # Add the delta change percentage to the sum\n",
    "            sum_delta_changes_percentage += delta_change_percentage\n",
    "            # Increment the count\n",
    "            count_delta_changes += 1\n",
    "\n",
    "# Calculate the average delta change percentage\n",
    "average_delta_change_percentage = sum_delta_changes_percentage / count_delta_changes if count_delta_changes > 0 else 0\n",
    "\n",
    "# Print the average delta change percentage\n",
    "print(f'Average delta change percentage between the 2nd and 3rd attempts: {average_delta_change_percentage:.2f}%')"
   ],
   "id": "59ee667239ea27bb",
   "outputs": [
    {
     "name": "stdout",
     "output_type": "stream",
     "text": [
      "Average delta change percentage between the 2nd and 3rd attempts: 36.54%\n"
     ]
    }
   ],
   "execution_count": 19
  },
  {
   "metadata": {
    "ExecuteTime": {
     "end_time": "2024-09-11T10:15:14.717513Z",
     "start_time": "2024-09-11T10:15:14.714705Z"
    }
   },
   "cell_type": "code",
   "source": [
    "# Initialize variables to store the sum of delta changes (in percentage) between the 2nd and 3rd attempts and the count\n",
    "sum_delta_changes_percentage = 0\n",
    "count_delta_changes = 0\n",
    "\n",
    "# Iterate over each user in filtered_list\n",
    "for user, assignments in filtered_list.items():\n",
    "    for assignment, data in assignments.items():\n",
    "        scores = data['scores']\n",
    "        if len(scores) >= 4:\n",
    "            delta_change_percentage = ((scores[3] - scores[2]) / scores[2]) * 100 if scores[2] != 0 else 0\n",
    "            # Add the delta change percentage to the sum\n",
    "            sum_delta_changes_percentage += delta_change_percentage\n",
    "            # Increment the count\n",
    "            count_delta_changes += 1\n",
    "\n",
    "# Calculate the average delta change percentage\n",
    "average_delta_change_percentage = sum_delta_changes_percentage / count_delta_changes if count_delta_changes > 0 else 0\n",
    "\n",
    "# Print the average delta change percentage\n",
    "print(f'Average delta change percentage between the 3rd and 4th attempts: {average_delta_change_percentage:.2f}%')"
   ],
   "id": "d19e95d5358fb6ed",
   "outputs": [
    {
     "name": "stdout",
     "output_type": "stream",
     "text": [
      "Average delta change percentage between the 3rd and 4th attempts: 14.44%\n"
     ]
    }
   ],
   "execution_count": 20
  },
  {
   "metadata": {
    "ExecuteTime": {
     "end_time": "2024-09-11T10:15:15.046782Z",
     "start_time": "2024-09-11T10:15:15.043856Z"
    }
   },
   "cell_type": "code",
   "source": [
    "# Initialize variables to store the sum of delta changes (in percentage) between the 4th and final attempts and the count\n",
    "sum_delta_changes_percentage = 0\n",
    "count_delta_changes = 0\n",
    "\n",
    "# Iterate over each user in filtered_list\n",
    "for user, assignments in filtered_list.items():\n",
    "    for assignment, data in assignments.items():\n",
    "        scores = data['scores']\n",
    "        if len(scores) >= 3:\n",
    "            # Calculate the delta change percentage between the 3rd and final attempts\n",
    "            delta_change_percentage = ((scores[-1] - scores[2]) / scores[2]) * 100 if scores[2] != 0 else 0\n",
    "            # Add the delta change percentage to the sum\n",
    "            sum_delta_changes_percentage += delta_change_percentage\n",
    "            # Increment the count\n",
    "            count_delta_changes += 1\n",
    "\n",
    "# Calculate the average delta change percentage\n",
    "average_delta_change_percentage = sum_delta_changes_percentage / count_delta_changes if count_delta_changes > 0 else 0\n",
    "\n",
    "# Print the average delta change percentage\n",
    "print(f'Average delta change percentage between the 3rd and final attempts: {average_delta_change_percentage:.2f}%')"
   ],
   "id": "406c21c1ba5e5f70",
   "outputs": [
    {
     "name": "stdout",
     "output_type": "stream",
     "text": [
      "Average delta change percentage between the 3rd and final attempts: 7.84%\n"
     ]
    }
   ],
   "execution_count": 21
  },
  {
   "metadata": {
    "ExecuteTime": {
     "end_time": "2024-09-11T10:15:16.454233Z",
     "start_time": "2024-09-11T10:15:15.379231Z"
    }
   },
   "cell_type": "code",
   "source": [
    "import matplotlib.pyplot as plt\n",
    "import pandas as pd\n",
    "\n",
    "# Initialize variables to store the sum of delta changes, scores, and attempt counts\n",
    "sum_delta_changes_percentage = []\n",
    "count_delta_changes = []\n",
    "sum_scores = []\n",
    "count_scores = []\n",
    "attempt_counts = []\n",
    "\n",
    "# Iterate over each user in filtered_list\n",
    "for user, assignments in filtered_list.items():\n",
    "    for assignment, data in assignments.items():\n",
    "        scores = data['scores']\n",
    "        delta_changes_percentage = data['delta_changes_percentage']\n",
    "\n",
    "        # Ensure the lists are long enough\n",
    "        while len(sum_delta_changes_percentage) < len(delta_changes_percentage):\n",
    "            sum_delta_changes_percentage.append(0)\n",
    "            count_delta_changes.append(0)\n",
    "        while len(sum_scores) < len(scores):\n",
    "            sum_scores.append(0)\n",
    "            count_scores.append(0)\n",
    "            attempt_counts.append(0)\n",
    "\n",
    "        # Sum delta changes percentage\n",
    "        for i, delta in enumerate(delta_changes_percentage):\n",
    "            sum_delta_changes_percentage[i] += delta\n",
    "            count_delta_changes[i] += 1\n",
    "\n",
    "        # Sum scores and count attempts\n",
    "        for i, score in enumerate(scores):\n",
    "            sum_scores[i] += score\n",
    "            count_scores[i] += 1\n",
    "            attempt_counts[i] += 1\n",
    "\n",
    "# Calculate average delta changes percentage\n",
    "average_delta_changes_percentage = [\n",
    "    sum_delta_changes_percentage[i] / count_delta_changes[i] if count_delta_changes[i] > 0 else 0\n",
    "    for i in range(len(sum_delta_changes_percentage))\n",
    "]\n",
    "\n",
    "# Calculate average scores\n",
    "average_scores = [\n",
    "    sum_scores[i] / count_scores[i] if count_scores[i] > 0 else 0\n",
    "    for i in range(len(sum_scores))\n",
    "]\n",
    "\n",
    "# Create a line graph\n",
    "fig, ax1 = plt.subplots()\n",
    "\n",
    "# Plot average delta changes percentage\n",
    "ax1.plot(range(1, len(average_delta_changes_percentage) + 1), average_delta_changes_percentage, marker='o', color='b', label='Average Delta Changes (%)')\n",
    "ax1.set_xlabel('Attempt')\n",
    "ax1.set_ylabel('Average Delta Changes (%)', color='b')\n",
    "ax1.tick_params(axis='y', labelcolor='b')\n",
    "\n",
    "# Create a second y-axis for average scores\n",
    "ax2 = ax1.twinx()\n",
    "ax2.plot(range(1, len(average_scores) + 1), average_scores, marker='o', color='r', label='Average Scores')\n",
    "ax2.set_ylabel('Average Scores', color='r')\n",
    "ax2.tick_params(axis='y', labelcolor='r')\n",
    "\n",
    "# Create a third y-axis for attempt counts\n",
    "ax3 = ax1.twinx()\n",
    "ax3.spines['right'].set_position(('outward', 60))  # Offset the third y-axis\n",
    "ax3.bar(range(1, len(attempt_counts) + 1), attempt_counts, alpha=0.3, color='g', label='Attempt Counts')\n",
    "ax3.set_ylabel('Attempt Counts', color='g')\n",
    "ax3.tick_params(axis='y', labelcolor='g')\n",
    "\n",
    "# Add title and legend\n",
    "plt.title('Average Delta Changes (%), Average Scores, and Attempt Counts')\n",
    "\n",
    "# Display the graph\n",
    "plt.show()"
   ],
   "id": "82e5a3a0a9ba641",
   "outputs": [
    {
     "data": {
      "text/plain": [
       "<Figure size 640x480 with 3 Axes>"
      ],
      "image/png": "[encoded data removed]"
     },
     "metadata": {},
     "output_type": "display_data"
    }
   ],
   "execution_count": 22
  },
  {
   "metadata": {},
   "cell_type": "code",
   "outputs": [],
   "execution_count": null,
   "source": "",
   "id": "21a11e6531f8d7a9"
  }
 ],
 "metadata": {
  "kernelspec": {
   "display_name": "Python 3",
   "language": "python",
   "name": "python3"
  },
  "language_info": {
   "codemirror_mode": {
    "name": "ipython",
    "version": 2
   },
   "file_extension": ".py",
   "mimetype": "text/x-python",
   "name": "python",
   "nbconvert_exporter": "python",
   "pygments_lexer": "ipython2",
   "version": "2.7.6"
  }
 },
 "nbformat": 4,
 "nbformat_minor": 5
}
